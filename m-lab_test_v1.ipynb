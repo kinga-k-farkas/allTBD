{
 "cells": [
  {
   "cell_type": "markdown",
   "metadata": {},
   "source": [
    "### Test using Google BigQuery to access M-Lab data in a Jupyter notebook\n",
    "\n",
    "Created by John Burt, for allTBD group.\n",
    "\n",
    "This notebook is a simple demo showing how to access M-Lab data. \n",
    "\n",
    "#### Process followed to get this working:\n",
    "- Have Anaconda installed\n",
    "- Install pandas-gbq package (in command line: 'conda install pandas-gbq --channel conda-forge')\n",
    "- Followed steps in the M-lab [BigQuery quickstart](https://www.measurementlab.net/data/docs/bq/quickstart/) to create a Google Cloud account and project, enable the BQ API, etc.\n",
    "\n",
    "Other useful links:\n",
    "\n",
    "Telescope: [\"Python framework designed to extract raw measurements from M-Lab to allow the easy production of research\"](https://github.com/m-lab/telescope)\n",
    "\n"
   ]
  },
  {
   "cell_type": "code",
   "execution_count": 1,
   "metadata": {},
   "outputs": [
    {
     "name": "stdout",
     "output_type": "stream",
     "text": [
      "Requesting query... ok.\n",
      "Job ID: 9cf6803c-32a0-40dd-8f02-ab44c8344258\n",
      "Query running...\n",
      "Query done.\n",
      "Processed: 0.0 B Billed: 0.0 B\n",
      "Standard price: $0.00 USD\n",
      "\n",
      "Retrieving results...\n",
      "Got 3003 rows.\n",
      "\n",
      "Total time taken 6.22 s.\n",
      "Finished at 2018-02-06 16:54:03.\n"
     ]
    },
    {
     "data": {
      "text/html": [
       "<div>\n",
       "<style>\n",
       "    .dataframe thead tr:only-child th {\n",
       "        text-align: right;\n",
       "    }\n",
       "\n",
       "    .dataframe thead th {\n",
       "        text-align: left;\n",
       "    }\n",
       "\n",
       "    .dataframe tbody tr th {\n",
       "        vertical-align: top;\n",
       "    }\n",
       "</style>\n",
       "<table border=\"1\" class=\"dataframe\">\n",
       "  <thead>\n",
       "    <tr style=\"text-align: right;\">\n",
       "      <th></th>\n",
       "      <th>day</th>\n",
       "      <th>num_tests</th>\n",
       "    </tr>\n",
       "  </thead>\n",
       "  <tbody>\n",
       "    <tr>\n",
       "      <th>0</th>\n",
       "      <td>2009-02-18</td>\n",
       "      <td>2</td>\n",
       "    </tr>\n",
       "    <tr>\n",
       "      <th>1</th>\n",
       "      <td>2009-02-21</td>\n",
       "      <td>89</td>\n",
       "    </tr>\n",
       "    <tr>\n",
       "      <th>2</th>\n",
       "      <td>2009-02-22</td>\n",
       "      <td>278</td>\n",
       "    </tr>\n",
       "    <tr>\n",
       "      <th>3</th>\n",
       "      <td>2009-02-23</td>\n",
       "      <td>209</td>\n",
       "    </tr>\n",
       "    <tr>\n",
       "      <th>4</th>\n",
       "      <td>2009-02-24</td>\n",
       "      <td>290</td>\n",
       "    </tr>\n",
       "  </tbody>\n",
       "</table>\n",
       "</div>"
      ],
      "text/plain": [
       "          day  num_tests\n",
       "0  2009-02-18          2\n",
       "1  2009-02-21         89\n",
       "2  2009-02-22        278\n",
       "3  2009-02-23        209\n",
       "4  2009-02-24        290"
      ]
     },
     "execution_count": 1,
     "metadata": {},
     "output_type": "execute_result"
    }
   ],
   "source": [
    "import pandas as pd\n",
    "from pandas.io import gbq\n",
    "\n",
    "# this is my project ID, you will probably use a different one\n",
    "project_id = 'mlab-194421'\n",
    "\n",
    "# example query from https://www.measurementlab.net/data/docs/bq/quickstart/\n",
    "mlab_test_query = \"\"\"\n",
    "SELECT\n",
    "  STRFTIME_UTC_USEC(web100_log_entry.log_time * 1000000, '%Y-%m-%d') AS day,\n",
    "    COUNT(*) AS num_tests\n",
    "  FROM\n",
    "    plx.google:m_lab.ndt.all\n",
    "  GROUP BY\n",
    "    day\n",
    "  ORDER BY\n",
    "    day ASC\n",
    "\"\"\"\n",
    "\n",
    "# read the query output into a pandas datafframe\n",
    "test_df = gbq.read_gbq(mlab_test_query, project_id=project_id)\n",
    "    \n",
    "# show contents    \n",
    "test_df.head()"
   ]
  },
  {
   "cell_type": "code",
   "execution_count": null,
   "metadata": {
    "collapsed": true
   },
   "outputs": [],
   "source": []
  }
 ],
 "metadata": {
  "kernelspec": {
   "display_name": "Python 3",
   "language": "python",
   "name": "python3"
  },
  "language_info": {
   "codemirror_mode": {
    "name": "ipython",
    "version": 3
   },
   "file_extension": ".py",
   "mimetype": "text/x-python",
   "name": "python",
   "nbconvert_exporter": "python",
   "pygments_lexer": "ipython3",
   "version": "3.5.4"
  }
 },
 "nbformat": 4,
 "nbformat_minor": 2
}
